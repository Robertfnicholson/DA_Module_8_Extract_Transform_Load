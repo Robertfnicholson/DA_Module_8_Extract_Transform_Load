{
 "cells": [
  {
   "cell_type": "code",
   "execution_count": null,
   "metadata": {},
   "outputs": [],
   "source": [
    "import pandas as pd\n",
    "import re\n",
    "pd.options.display.max_colwidth = 100"
   ]
  },
  {
   "cell_type": "code",
   "execution_count": null,
   "metadata": {},
   "outputs": [],
   "source": [
    "# Set variables to text files\n",
    "alice_file = './Resources/alice.txt'\n",
    "sherlock_file = './Resources/sherlock.txt'"
   ]
  },
  {
   "cell_type": "code",
   "execution_count": null,
   "metadata": {},
   "outputs": [],
   "source": [
    "# Create a function to find how many questions are asked in a text\n",
    "def question_count(text_file):\n",
    "    # Load text file into a DataFrame\n",
    "    text_df = pd.read_csv(text_file, sep='\\n', header=None)\n",
    "    text_df.columns = ['text']\n",
    "    \n",
    "    # Create regex to find lines that end in a ?\n",
    "    p = '\\?$'\n",
    "    question_df = text_df[text_df['text'].str.contains(p)]\n",
    "    \n",
    "    return len(question_df)"
   ]
  },
  {
   "cell_type": "code",
   "execution_count": null,
   "metadata": {},
   "outputs": [],
   "source": [
    "# Print questions asked in the Alice text\n",
    "print(question_count(alice_file))"
   ]
  },
  {
   "cell_type": "code",
   "execution_count": null,
   "metadata": {},
   "outputs": [],
   "source": [
    "# Print Questions asked in the Holmes text\n",
    "print(question_count(sherlock_file))"
   ]
  },
  {
   "cell_type": "code",
   "execution_count": null,
   "metadata": {},
   "outputs": [],
   "source": [
    "# Create a function that will create a DataFrame for all 6+ lengths word following a character\n",
    "def word_count(text_file, character):\n",
    "    \n",
    "    # Load text file into a DataFrame\n",
    "    text_df = pd.read_csv(text_file, sep='\\n', header=None)\n",
    "    text_df.columns = ['text']\n",
    "    \n",
    "    # Create regex string for the character\n",
    "    p = '('+ character + ')' + '(\\s*\\w{6,})'\n",
    "    \n",
    "    # Group the character and the words\n",
    "    word_groups_df = text_df['text'].str.extractall(p)\n",
    "    \n",
    "    # Return \n",
    "    return word_groups_df[1].value_counts()"
   ]
  },
  {
   "cell_type": "code",
   "execution_count": null,
   "metadata": {},
   "outputs": [],
   "source": [
    "# Print the Word count for the character Alice\n",
    "word_count(alice_file, \"Alice\")"
   ]
  },
  {
   "cell_type": "code",
   "execution_count": null,
   "metadata": {},
   "outputs": [],
   "source": [
    "# Print the Word count for the characters Hatter\n",
    "word_count(alice_file, \"Hatter\")"
   ]
  },
  {
   "cell_type": "code",
   "execution_count": null,
   "metadata": {},
   "outputs": [],
   "source": [
    "# Print the Word count for the characters Holmes\n",
    "word_count(sherlock_file, \"Holmes\")"
   ]
  },
  {
   "cell_type": "code",
   "execution_count": null,
   "metadata": {},
   "outputs": [],
   "source": []
  }
 ],
 "metadata": {
  "kernelspec": {
   "display_name": "Python 3 (ipykernel)",
   "language": "python",
   "name": "python3"
  },
  "language_info": {
   "codemirror_mode": {
    "name": "ipython",
    "version": 3
   },
   "file_extension": ".py",
   "mimetype": "text/x-python",
   "name": "python",
   "nbconvert_exporter": "python",
   "pygments_lexer": "ipython3",
   "version": "3.7.11"
  }
 },
 "nbformat": 4,
 "nbformat_minor": 4
}

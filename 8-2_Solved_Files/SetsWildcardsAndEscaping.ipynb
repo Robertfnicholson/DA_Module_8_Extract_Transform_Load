{
 "cells": [
  {
   "cell_type": "code",
   "execution_count": null,
   "metadata": {},
   "outputs": [],
   "source": [
    "import pandas as pd\n",
    "pd.options.display.max_colwidth = 100"
   ]
  },
  {
   "cell_type": "code",
   "execution_count": null,
   "metadata": {},
   "outputs": [],
   "source": [
    "# load in English words list\n",
    "sample_file = './Resources/sample.txt'\n",
    "\n",
    "sample_df = pd.read_csv(sample_file, sep='\\n', header=None)\n",
    "sample_df.columns = ['text']\n",
    "sample_df"
   ]
  },
  {
   "cell_type": "code",
   "execution_count": null,
   "metadata": {},
   "outputs": [],
   "source": [
    "# find all lines of text that start with any character and then include 'ought' elsewhere in the line\n",
    "p = '.ought'\n",
    "sample_df[sample_df['text'].str.contains(p)]"
   ]
  },
  {
   "cell_type": "code",
   "execution_count": null,
   "metadata": {},
   "outputs": [],
   "source": [
    "# Use \\w to find any letter, digit, or underscore followed by ought\n",
    "p = '\\wought'\n",
    "sample_df[sample_df['text'].str.contains(p)]"
   ]
  },
  {
   "cell_type": "code",
   "execution_count": null,
   "metadata": {},
   "outputs": [],
   "source": [
    "# find all lines of text with the strings 'bought', 'fought', and 'sought'\n",
    "p = '[bfs]ought'\n",
    "sample_df[sample_df['text'].str.contains(p)]"
   ]
  },
  {
   "cell_type": "code",
   "execution_count": null,
   "metadata": {},
   "outputs": [],
   "source": [
    "# find all lines of text with the strings 'bought', 'fought', and 'sought' that end with a period\n",
    "# note: we need to escape the period with a backslash\n",
    "p = '[bfs]ought\\.'\n",
    "sample_df[sample_df['text'].str.contains(p)]"
   ]
  },
  {
   "cell_type": "code",
   "execution_count": null,
   "metadata": {},
   "outputs": [],
   "source": []
  }
 ],
 "metadata": {
  "kernelspec": {
   "display_name": "Python 3 (ipykernel)",
   "language": "python",
   "name": "python3"
  },
  "language_info": {
   "codemirror_mode": {
    "name": "ipython",
    "version": 3
   },
   "file_extension": ".py",
   "mimetype": "text/x-python",
   "name": "python",
   "nbconvert_exporter": "python",
   "pygments_lexer": "ipython3",
   "version": "3.9.7"
  }
 },
 "nbformat": 4,
 "nbformat_minor": 4
}

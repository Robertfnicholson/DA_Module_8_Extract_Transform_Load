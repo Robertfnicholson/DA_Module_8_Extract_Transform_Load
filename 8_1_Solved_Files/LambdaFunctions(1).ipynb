{
 "cells": [
  {
   "cell_type": "code",
   "execution_count": null,
   "metadata": {},
   "outputs": [],
   "source": [
    "import pandas as pd"
   ]
  },
  {
   "cell_type": "code",
   "execution_count": null,
   "metadata": {},
   "outputs": [],
   "source": [
    "# Read in data set\n",
    "movies_df = pd.read_csv(f'./Resources/movies_metadata.csv')\n",
    "movies_df.head()"
   ]
  },
  {
   "cell_type": "markdown",
   "metadata": {},
   "source": [
    "The following cell uses a function `more_than_15_words` to select the rows from `movies_df` that have titles with more than 15 words. In the next cell, do the same selection, but using a lambda function"
   ]
  },
  {
   "cell_type": "code",
   "execution_count": null,
   "metadata": {
    "scrolled": true
   },
   "outputs": [],
   "source": [
    "def more_than_15_words(title):\n",
    "    split_title = title.split() # split the title into a list of words\n",
    "    number_of_words_in_title = len(split_title) # count the number of words in the title\n",
    "    is_greater_than_15 = number_of_words_in_title > 15 # check if the number of words is greater than 15\n",
    "    return is_greater_than_15 # return whether or not the title has more than 15 words\n",
    "\n",
    "movies_df[movies_df['original_title'].apply(more_than_15_words)]"
   ]
  },
  {
   "cell_type": "code",
   "execution_count": null,
   "metadata": {},
   "outputs": [],
   "source": [
    "# Find all the movies that have more than 15 words in their title using a lambda function.\n",
    "movies_df[movies_df['original_title'].apply(lambda x: len(x.split())>15)]"
   ]
  },
  {
   "cell_type": "code",
   "execution_count": null,
   "metadata": {},
   "outputs": [],
   "source": [
    "def hundredfold_return(row):\n",
    "    revenue = row['revenue']\n",
    "    budget = row['budget']\n",
    "    budget_over_1000 = budget > 1000\n",
    "    revenue_over_100x = revenue > 100 * budget\n",
    "    return revenue_over_100x and budget_over_1000\n",
    "    \n",
    "movies_df[movies_df.apply(hundredfold_return, axis=1)]    "
   ]
  },
  {
   "cell_type": "code",
   "execution_count": null,
   "metadata": {},
   "outputs": [],
   "source": [
    "# Find all movies with budgets over 1000 that pulled in revenue over 100x their budget using a lambda function\n",
    "movies_df[movies_df.apply(lambda row: row['revenue'] > 100 * row['budget'] and row['budget'] > 1000, axis=1)]"
   ]
  },
  {
   "cell_type": "code",
   "execution_count": null,
   "metadata": {},
   "outputs": [],
   "source": [
    "# load in list of English words\n",
    "words_file = './Resources/words.txt'\n",
    "\n",
    "words_df = pd.read_csv(words_file, sep='\\n', header=None)\n",
    "words_df.columns = ['text']\n",
    "words_df.head()"
   ]
  },
  {
   "cell_type": "code",
   "execution_count": null,
   "metadata": {},
   "outputs": [],
   "source": [
    "def contains_x(word):\n",
    "    split_word = list(word)\n",
    "    word_contains_x = 'x' in split_word\n",
    "    return word_contains_x\n",
    "\n",
    "words_df[words_df['text'].apply(contains_x)]"
   ]
  },
  {
   "cell_type": "code",
   "execution_count": null,
   "metadata": {},
   "outputs": [],
   "source": [
    "# Find all words containing the letter 'x' using a lambda function\n",
    "words_df[words_df['text'].apply(lambda word: 'x' in list(word))]"
   ]
  },
  {
   "cell_type": "code",
   "execution_count": null,
   "metadata": {},
   "outputs": [],
   "source": []
  }
 ],
 "metadata": {
  "kernelspec": {
   "display_name": "Python 3 (ipykernel)",
   "language": "python",
   "name": "python3"
  },
  "language_info": {
   "codemirror_mode": {
    "name": "ipython",
    "version": 3
   },
   "file_extension": ".py",
   "mimetype": "text/x-python",
   "name": "python",
   "nbconvert_exporter": "python",
   "pygments_lexer": "ipython3",
   "version": "3.9.7"
  }
 },
 "nbformat": 4,
 "nbformat_minor": 2
}

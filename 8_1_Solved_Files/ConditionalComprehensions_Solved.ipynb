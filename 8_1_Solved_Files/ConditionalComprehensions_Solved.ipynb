{
 "cells": [
  {
   "cell_type": "markdown",
   "metadata": {},
   "source": [
    "Use conditional list comprehensions to create the lists requested in the following cells.\n",
    "\n",
    "**Hint**: Remember the modulo operator (%) !\n",
    "\n",
    "`x % y` gives the remainder if `x` is divided by `y`. So, for instance `x % 2` will be `0` when x is even, and `1` when x is odd"
   ]
  },
  {
   "cell_type": "code",
   "execution_count": null,
   "metadata": {},
   "outputs": [],
   "source": [
    "# Make a list of numbers up to 100 that are divisible by three\n",
    "[x for x in range(100) if x % 3 == 0]"
   ]
  },
  {
   "cell_type": "code",
   "execution_count": null,
   "metadata": {},
   "outputs": [],
   "source": [
    "# Use conditional list comprehensions to create a list of all the pet names that are for dogs\n",
    "pets = [{\n",
    "    'name': 'Fido',\n",
    "    'age': 4,\n",
    "    'type': 'dog'\n",
    "}, {\n",
    "    'name': 'Rex',\n",
    "    'age': 2,\n",
    "    'type': 'dog'\n",
    "}, {\n",
    "    'name': 'Puddles',\n",
    "    'age': 7,\n",
    "    'type': 'wombat'\n",
    "}, {\n",
    "    'name': 'Tuna',\n",
    "    'age': 6,\n",
    "    'type': 'cat'\n",
    "}, {\n",
    "    'name': 'Springer',\n",
    "    'age': 5,\n",
    "    'type': 'dog'\n",
    "}]\n",
    "\n",
    "[pet['name'] for pet in pets if pet['type'] == 'dog']"
   ]
  },
  {
   "cell_type": "code",
   "execution_count": null,
   "metadata": {},
   "outputs": [],
   "source": [
    "# Make a list of numbers up to 100 that are divisible by three OR divisible by five\n",
    "[x for x in range(100) if x % 3 == 0 or x % 5 == 0]"
   ]
  },
  {
   "cell_type": "code",
   "execution_count": null,
   "metadata": {},
   "outputs": [],
   "source": [
    "# BONUS: Make a list comprehension that implements FizzBuzz on the previous list\n",
    "# FizzBuzz replaces multiples of 3 with \"Fizz\", multiples of 5 with \"Buzz\" and multiples of both 3 and 5 with \"FizzBuzz\"\n",
    "# HINT: use a conditional in the expression at the beginning of the list comprehension\n",
    "['FizzBuzz' if x % 3 == 0 and x % 5 == 0 else \n",
    "     'Fizz' if x % 3 == 0 else \n",
    "         'Buzz' if x % 5 == 0 else ''\n",
    "             for x in range(100) if x % 3 == 0 or x % 5 == 0]"
   ]
  },
  {
   "cell_type": "code",
   "execution_count": null,
   "metadata": {},
   "outputs": [],
   "source": []
  }
 ],
 "metadata": {
  "kernelspec": {
   "display_name": "Python 3 (ipykernel)",
   "language": "python",
   "name": "python3"
  },
  "language_info": {
   "codemirror_mode": {
    "name": "ipython",
    "version": 3
   },
   "file_extension": ".py",
   "mimetype": "text/x-python",
   "name": "python",
   "nbconvert_exporter": "python",
   "pygments_lexer": "ipython3",
   "version": "3.7.11"
  }
 },
 "nbformat": 4,
 "nbformat_minor": 2
}

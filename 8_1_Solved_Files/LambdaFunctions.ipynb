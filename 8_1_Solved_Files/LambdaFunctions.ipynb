{
 "cells": [
  {
   "cell_type": "markdown",
   "metadata": {},
   "source": [
    "Here is a function that takes in a value x and returns x times itself. There are four parts to this function:\n",
    "1. Name (`square`)\n",
    "2. Parameter (`x`)\n",
    "3. Code Block (`squared_value = x*x`)\n",
    "4. Return statement (`return squared_value`)"
   ]
  },
  {
   "cell_type": "code",
   "execution_count": null,
   "metadata": {},
   "outputs": [],
   "source": [
    "def square(x):\n",
    "    squared_value = x*x\n",
    "    return squared_value"
   ]
  },
  {
   "cell_type": "markdown",
   "metadata": {},
   "source": [
    "We can represent the same function with a lambda. It has no name, so we assign it to the variable `f` to demonstrate how to use it. It also has no code block, it only returns the expression `x*x`"
   ]
  },
  {
   "cell_type": "code",
   "execution_count": null,
   "metadata": {},
   "outputs": [],
   "source": [
    "f = lambda x: x*x"
   ]
  },
  {
   "cell_type": "markdown",
   "metadata": {},
   "source": [
    "Both functions give the same result"
   ]
  },
  {
   "cell_type": "code",
   "execution_count": null,
   "metadata": {},
   "outputs": [],
   "source": [
    "square(5)"
   ]
  },
  {
   "cell_type": "code",
   "execution_count": null,
   "metadata": {},
   "outputs": [],
   "source": [
    "f(5)"
   ]
  },
  {
   "cell_type": "markdown",
   "metadata": {},
   "source": [
    "But lambda functions are meant to be used when passed as a parameter (remember, in Python, functions are first-class variables!)\n",
    "\n",
    "Here's a simple example: a function called `apply_function_twice` that takes in a function and applies it twice to a value `input_value`"
   ]
  },
  {
   "cell_type": "code",
   "execution_count": null,
   "metadata": {},
   "outputs": [],
   "source": [
    "def apply_function_twice(func, input_value):\n",
    "    return func(func(input_value))"
   ]
  },
  {
   "cell_type": "markdown",
   "metadata": {},
   "source": [
    "we can use `apply_function` to square the number 6 using `square`, `f`, or the original lambda function we assigned to `f`."
   ]
  },
  {
   "cell_type": "code",
   "execution_count": null,
   "metadata": {},
   "outputs": [],
   "source": [
    "apply_function_twice(square, 3)"
   ]
  },
  {
   "cell_type": "code",
   "execution_count": null,
   "metadata": {},
   "outputs": [],
   "source": [
    "apply_function_twice(f, 3)"
   ]
  },
  {
   "cell_type": "code",
   "execution_count": null,
   "metadata": {},
   "outputs": [],
   "source": [
    "apply_function_twice(lambda x: x*x, 3)"
   ]
  },
  {
   "cell_type": "markdown",
   "metadata": {},
   "source": [
    "lambda functions become really powerful when combined with Pandas, using the `apply()` method."
   ]
  },
  {
   "cell_type": "code",
   "execution_count": null,
   "metadata": {},
   "outputs": [],
   "source": [
    "import pandas as pd"
   ]
  },
  {
   "cell_type": "markdown",
   "metadata": {},
   "source": [
    "Suppose we have a dataset of candy with a handful of attributes, ratings, and costs"
   ]
  },
  {
   "cell_type": "code",
   "execution_count": null,
   "metadata": {},
   "outputs": [],
   "source": [
    "candy_df = pd.DataFrame(\n",
    "    [{'candy':'snickers','has_chocolate':True, 'has_nuts':True, 'is_fruity':False, 'rating':9.5, 'cost':1.50},\n",
    "     {'candy':'skittles','has_chocolate':False, 'has_nuts':False, 'is_fruity':True, 'rating':9.2, 'cost':0.99},\n",
    "     {'candy':'caramello','has_chocolate':True, 'has_nuts':False, 'is_fruity':False, 'rating':8.3, 'cost':0.99},\n",
    "     {'candy':'circus peanuts','has_chocolate':False, 'has_nuts':False, 'is_fruity':False, 'rating':2.2, 'cost':0.49},\n",
    "     {'candy':'whatchamacallit','has_chocolate':True, 'has_nuts':True, 'is_fruity':False, 'rating':7.8, 'cost':1.49},\n",
    "     {'candy':'starburst','has_chocolate':False, 'has_nuts':False, 'is_fruity':True, 'rating':8.5, 'cost':1.00},\n",
    "     {'candy':'mars bar','has_chocolate':True, 'has_nuts':False, 'is_fruity':False, 'rating':7.2, 'cost':1.30},\n",
    "    ]\n",
    ")\n",
    "candy_df"
   ]
  },
  {
   "cell_type": "markdown",
   "metadata": {},
   "source": [
    "Suppose we wanted to find a candy that\n",
    "1. has chocolate,\n",
    "2. does not have nuts, and\n",
    "3. the rating-to-cost ratio is greater than 7\n",
    "\n",
    "we can do this with `apply()` and a lambda function that takes in the entire row as its parameter"
   ]
  },
  {
   "cell_type": "code",
   "execution_count": null,
   "metadata": {},
   "outputs": [],
   "source": [
    "candy_df[candy_df.apply(lambda row: row['has_chocolate'] == True and \n",
    "                        row['has_nuts'] == False and \n",
    "                        row['rating']/row['cost'] > 7, axis=1)]"
   ]
  },
  {
   "cell_type": "markdown",
   "metadata": {
    "collapsed": true
   },
   "source": [
    "We can also use lambda functions to create new columns. Suppose we want to make a personalized rating value adjustment. Let's say we really like fruity candy, so fruity candy gets a +1 to the rating, and we like chocolate, but only if the candy has nuts as well, so chocolate and nuts gives a +0.75 to the rating.\n",
    "\n",
    "Boolean values can also be numerical. If a value is `False` then that is the equivalent to 0, and if a value is `True` then that is equivalent to a value of 1."
   ]
  },
  {
   "cell_type": "code",
   "execution_count": null,
   "metadata": {},
   "outputs": [],
   "source": [
    "candy_df['adjusted_rating'] = candy_df.apply(lambda row: row['rating'] + row['is_fruity'] * 1\n",
    "                                             + row['has_chocolate']*row['has_nuts']*0.75, axis=1)\n",
    "candy_df"
   ]
  },
  {
   "cell_type": "code",
   "execution_count": null,
   "metadata": {},
   "outputs": [],
   "source": []
  }
 ],
 "metadata": {
  "kernelspec": {
   "display_name": "Python 3 (ipykernel)",
   "language": "python",
   "name": "python3"
  },
  "language_info": {
   "codemirror_mode": {
    "name": "ipython",
    "version": 3
   },
   "file_extension": ".py",
   "mimetype": "text/x-python",
   "name": "python",
   "nbconvert_exporter": "python",
   "pygments_lexer": "ipython3",
   "version": "3.9.7"
  }
 },
 "nbformat": 4,
 "nbformat_minor": 2
}

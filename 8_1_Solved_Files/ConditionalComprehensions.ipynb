{
 "cells": [
  {
   "cell_type": "markdown",
   "metadata": {},
   "source": [
    "Remember, list comprehensions when we first learned them followed the form\n",
    "\n",
    "`[expression for element in source_list]`\n",
    "\n",
    "But there's an optional section we can add at the end to filter based on a conditional expression\n",
    "\n",
    "`[expression for element in source_list if filter_expression]`\n",
    "\n",
    "For example, if we have a list of dogs with their name, age, and weight, and we want to see only the large dogs, we could write\n",
    "\n",
    "`[animal for dog in dogs if dog['weight'] > 30]`\n",
    "\n",
    "Here, \n",
    "* `animal` is the _expression_\n",
    "* `dog` is the _element_\n",
    "* `dogs` is the <i>source_list</i>\n",
    "* `dog['weight'] > 30` is the <i>filter_expression</i>\n",
    "\n",
    "Note that we can use the _element_ in our filter expression"
   ]
  },
  {
   "cell_type": "code",
   "execution_count": null,
   "metadata": {},
   "outputs": [],
   "source": [
    "even_numbers = [x for x in range(100)]\n",
    "even_numbers"
   ]
  },
  {
   "cell_type": "code",
   "execution_count": null,
   "metadata": {},
   "outputs": [],
   "source": [
    "# One way to create a list of even numbers is with a conditional list comprehension\n",
    "# the expression is just 'x'\n",
    "# the element is also 'x'\n",
    "# the source_list will be 'range(100)'\n",
    "# the filter_expression is 'x % 2 == 0'\n",
    "\n",
    "even_numbers = [x for x in range(100) if x % 2 == 0]\n",
    "even_numbers"
   ]
  },
  {
   "cell_type": "code",
   "execution_count": null,
   "metadata": {},
   "outputs": [],
   "source": [
    "# We can also use a condition for our expression with an inline if\n",
    "#[x for x in range(20)]\n",
    "['Even' if x %2 == 0 else 'Odd' for x in range(20)]"
   ]
  },
  {
   "cell_type": "code",
   "execution_count": null,
   "metadata": {},
   "outputs": [],
   "source": [
    "# Given a list of dictionaries, we can filter them with a list comprehension\n",
    "candies = [{'name':'snickers','has_chocolate':True, 'has_nuts':True, 'is_fruity':False, 'rating':9.5, 'cost':1.50},\n",
    "           {'name':'skittles','has_chocolate':False, 'has_nuts':False, 'is_fruity':True, 'rating':9.2, 'cost':0.99},\n",
    "           {'name':'caramello','has_chocolate':True, 'has_nuts':False, 'is_fruity':False, 'rating':8.3, 'cost':0.99},\n",
    "           {'name':'circus peanuts','has_chocolate':False, 'has_nuts':False, 'is_fruity':False, 'rating':2.2, 'cost':0.49},\n",
    "           {'name':'whatchamacallit','has_chocolate':True, 'has_nuts':True, 'is_fruity':False, 'rating':7.8, 'cost':1.49},\n",
    "           {'name':'starburst','has_chocolate':False, 'has_nuts':False, 'is_fruity':True, 'rating':8.5, 'cost':1.00},\n",
    "           {'name':'mars bar','has_chocolate':True, 'has_nuts':False, 'is_fruity':False, 'rating':7.2, 'cost':1.30},\n",
    "          ]\n",
    "#[x for x in range(20)]\n",
    "[candy for candy in candies if candy['has_nuts'] == False]"
   ]
  },
  {
   "cell_type": "code",
   "execution_count": null,
   "metadata": {},
   "outputs": [],
   "source": [
    "# To make it easier to read, we can just select the name of the candies\n",
    "[candy['name'] for candy in candies if candy['has_nuts'] == False]"
   ]
  },
  {
   "cell_type": "code",
   "execution_count": null,
   "metadata": {},
   "outputs": [],
   "source": []
  }
 ],
 "metadata": {
  "kernelspec": {
   "display_name": "Python 3 (ipykernel)",
   "language": "python",
   "name": "python3"
  },
  "language_info": {
   "codemirror_mode": {
    "name": "ipython",
    "version": 3
   },
   "file_extension": ".py",
   "mimetype": "text/x-python",
   "name": "python",
   "nbconvert_exporter": "python",
   "pygments_lexer": "ipython3",
   "version": "3.7.11"
  }
 },
 "nbformat": 4,
 "nbformat_minor": 2
}
